{
 "cells": [
  {
   "cell_type": "code",
   "execution_count": 1,
   "id": "447baaed-7e3b-4d83-b2fb-df43b4e73d53",
   "metadata": {},
   "outputs": [],
   "source": [
    "import os\n",
    "import torch\n",
    "import torch.nn as nn\n",
    "import torch.optim as optim\n",
    "import torchvision.models as models\n",
    "from torch.utils.data import DataLoader, Dataset\n",
    "import torchvision.transforms as transforms\n",
    "import pandas as pd\n",
    "import numpy as np\n",
    "from sklearn.preprocessing import LabelEncoder\n",
    "import nibabel\n",
    "import matplotlib.pyplot as plt\n",
    "from sklearn.metrics import accuracy_score\n",
    "from torch.utils.data import random_split"
   ]
  },
  {
   "cell_type": "code",
   "execution_count": 2,
   "id": "935fea70-213d-49cc-a81b-809d27c86b1f",
   "metadata": {},
   "outputs": [],
   "source": [
    "def apply_mask(aseg_image, brain_image, labels = [2, 41]):\n",
    "    from scipy.ndimage import zoom\n",
    "    brain_data = brain_image.get_fdata() \n",
    "    aseg_data = aseg_image.get_fdata() \n",
    "    brain_mask = np.zeros_like(aseg_data)\n",
    "    for label in labels:\n",
    "        brain_mask += np.where((aseg_data == label), 1, 0)\n",
    "\n",
    "    segmented_brain_image = brain_data * brain_mask #applied mask on the brain image\n",
    "#     resized_image = zoom(segmented_brain_image, np.array(target_size) / np.array(segmented_brain_image.shape), order=0)\n",
    "    segmented_brain_image = nibabel.Nifti1Image(segmented_brain_image, affine=None) # Generating the nii image\n",
    "    \n",
    "    return segmented_brain_image\n",
    "\n",
    "def resize_image(img_data):\n",
    "    resized_img_data = torch.nn.functional.interpolate(\n",
    "        torch.unsqueeze(torch.unsqueeze(torch.tensor(img_data), 0), 0),\n",
    "        size=(100, 100, 100),\n",
    "        mode='trilinear',\n",
    "        align_corners=False,\n",
    "    )\n",
    "    return resized_img_data.squeeze().numpy()"
   ]
  },
  {
   "cell_type": "code",
   "execution_count": 3,
   "id": "343e08e5-071c-408c-b451-689242593ca0",
   "metadata": {},
   "outputs": [],
   "source": [
    "csv_path = \"ADNI1_Screening_1.5T_1_29_2024.csv\"\n",
    "# base = \"/kaggle/input/adni-1-5t-fastsurfer-quickseg/ADNI-1.5T-FastSurfer-QuickSeg/\"\n",
    "mri_images = os.listdir(\"AD\")\n",
    "for i in os.listdir(\"CN\"):\n",
    "    mri_images.append(i)\n",
    "for i in os.listdir(\"MCI\"):\n",
    "    mri_images.append(i)\n",
    "    \n",
    "csv_data = pd.read_csv(csv_path)\n",
    "df = pd.DataFrame(csv_data)"
   ]
  },
  {
   "cell_type": "code",
   "execution_count": 4,
   "id": "c97bdead-7f85-4f09-9a5b-59be95fe1d5c",
   "metadata": {},
   "outputs": [],
   "source": [
    "for index, row in df.iterrows():\n",
    "    file_name = row['Image Data ID'] + \".nii\"\n",
    "    if file_name not in mri_images:\n",
    "        df = df.drop(index)\n",
    "df.to_csv(\"filter_csv.csv\")\n",
    "csv_path = \"filter.csv\""
   ]
  },
  {
   "cell_type": "code",
   "execution_count": 5,
   "id": "baac1753-83ea-415b-a6a7-cc07f68f4210",
   "metadata": {},
   "outputs": [
    {
     "data": {
      "text/plain": [
       "(367, 370)"
      ]
     },
     "execution_count": 5,
     "metadata": {},
     "output_type": "execute_result"
    }
   ],
   "source": [
    "len(df), len(mri_images)"
   ]
  },
  {
   "cell_type": "code",
   "execution_count": 6,
   "id": "dbe38d57-3b82-4767-af33-933bc5862d6e",
   "metadata": {},
   "outputs": [
    {
     "data": {
      "text/html": [
       "<div>\n",
       "<style scoped>\n",
       "    .dataframe tbody tr th:only-of-type {\n",
       "        vertical-align: middle;\n",
       "    }\n",
       "\n",
       "    .dataframe tbody tr th {\n",
       "        vertical-align: top;\n",
       "    }\n",
       "\n",
       "    .dataframe thead th {\n",
       "        text-align: right;\n",
       "    }\n",
       "</style>\n",
       "<table border=\"1\" class=\"dataframe\">\n",
       "  <thead>\n",
       "    <tr style=\"text-align: right;\">\n",
       "      <th></th>\n",
       "      <th>Image Data ID</th>\n",
       "      <th>Subject</th>\n",
       "      <th>Group</th>\n",
       "      <th>Sex</th>\n",
       "      <th>Age</th>\n",
       "      <th>Visit</th>\n",
       "      <th>Modality</th>\n",
       "      <th>Description</th>\n",
       "      <th>Type</th>\n",
       "      <th>Acq Date</th>\n",
       "      <th>Format</th>\n",
       "      <th>Downloaded</th>\n",
       "    </tr>\n",
       "  </thead>\n",
       "  <tbody>\n",
       "    <tr>\n",
       "      <th>7</th>\n",
       "      <td>I31509</td>\n",
       "      <td>023_S_0855</td>\n",
       "      <td>MCI</td>\n",
       "      <td>M</td>\n",
       "      <td>76</td>\n",
       "      <td>sc</td>\n",
       "      <td>MRI</td>\n",
       "      <td>MPR; GradWarp; B1 Correction; N3; Scaled</td>\n",
       "      <td>Processed</td>\n",
       "      <td>9/05/2006</td>\n",
       "      <td>NiFTI</td>\n",
       "      <td>1/29/2024</td>\n",
       "    </tr>\n",
       "    <tr>\n",
       "      <th>9</th>\n",
       "      <td>I39152</td>\n",
       "      <td>130_S_0783</td>\n",
       "      <td>MCI</td>\n",
       "      <td>F</td>\n",
       "      <td>79</td>\n",
       "      <td>sc</td>\n",
       "      <td>MRI</td>\n",
       "      <td>MPR; GradWarp; B1 Correction; N3; Scaled</td>\n",
       "      <td>Processed</td>\n",
       "      <td>8/17/2006</td>\n",
       "      <td>NiFTI</td>\n",
       "      <td>1/29/2024</td>\n",
       "    </tr>\n",
       "    <tr>\n",
       "      <th>18</th>\n",
       "      <td>I40037</td>\n",
       "      <td>041_S_0598</td>\n",
       "      <td>MCI</td>\n",
       "      <td>M</td>\n",
       "      <td>72</td>\n",
       "      <td>sc</td>\n",
       "      <td>MRI</td>\n",
       "      <td>MPR; GradWarp; B1 Correction; N3; Scaled</td>\n",
       "      <td>Processed</td>\n",
       "      <td>6/16/2006</td>\n",
       "      <td>NiFTI</td>\n",
       "      <td>1/29/2024</td>\n",
       "    </tr>\n",
       "    <tr>\n",
       "      <th>20</th>\n",
       "      <td>I34524</td>\n",
       "      <td>099_S_0291</td>\n",
       "      <td>MCI</td>\n",
       "      <td>M</td>\n",
       "      <td>79</td>\n",
       "      <td>sc</td>\n",
       "      <td>MRI</td>\n",
       "      <td>MPR; GradWarp; B1 Correction; N3; Scaled</td>\n",
       "      <td>Processed</td>\n",
       "      <td>3/09/2006</td>\n",
       "      <td>NiFTI</td>\n",
       "      <td>1/29/2024</td>\n",
       "    </tr>\n",
       "    <tr>\n",
       "      <th>24</th>\n",
       "      <td>I34747</td>\n",
       "      <td>057_S_0941</td>\n",
       "      <td>MCI</td>\n",
       "      <td>F</td>\n",
       "      <td>73</td>\n",
       "      <td>sc</td>\n",
       "      <td>MRI</td>\n",
       "      <td>MPR-R; GradWarp; B1 Correction; N3; Scaled</td>\n",
       "      <td>Processed</td>\n",
       "      <td>10/11/2006</td>\n",
       "      <td>NiFTI</td>\n",
       "      <td>1/29/2024</td>\n",
       "    </tr>\n",
       "    <tr>\n",
       "      <th>26</th>\n",
       "      <td>I35591</td>\n",
       "      <td>011_S_1080</td>\n",
       "      <td>MCI</td>\n",
       "      <td>M</td>\n",
       "      <td>82</td>\n",
       "      <td>sc</td>\n",
       "      <td>MRI</td>\n",
       "      <td>MPR; GradWarp; B1 Correction; N3; Scaled</td>\n",
       "      <td>Processed</td>\n",
       "      <td>11/22/2006</td>\n",
       "      <td>NiFTI</td>\n",
       "      <td>1/29/2024</td>\n",
       "    </tr>\n",
       "    <tr>\n",
       "      <th>32</th>\n",
       "      <td>I35799</td>\n",
       "      <td>127_S_0112</td>\n",
       "      <td>MCI</td>\n",
       "      <td>M</td>\n",
       "      <td>71</td>\n",
       "      <td>sc</td>\n",
       "      <td>MRI</td>\n",
       "      <td>MPR; GradWarp; B1 Correction; N3; Scaled</td>\n",
       "      <td>Processed</td>\n",
       "      <td>1/13/2006</td>\n",
       "      <td>NiFTI</td>\n",
       "      <td>1/29/2024</td>\n",
       "    </tr>\n",
       "    <tr>\n",
       "      <th>34</th>\n",
       "      <td>I36949</td>\n",
       "      <td>036_S_0673</td>\n",
       "      <td>MCI</td>\n",
       "      <td>M</td>\n",
       "      <td>78</td>\n",
       "      <td>sc</td>\n",
       "      <td>MRI</td>\n",
       "      <td>MPR; GradWarp; B1 Correction; N3; Scaled</td>\n",
       "      <td>Processed</td>\n",
       "      <td>7/21/2006</td>\n",
       "      <td>NiFTI</td>\n",
       "      <td>1/29/2024</td>\n",
       "    </tr>\n",
       "    <tr>\n",
       "      <th>37</th>\n",
       "      <td>I31346</td>\n",
       "      <td>023_S_0217</td>\n",
       "      <td>MCI</td>\n",
       "      <td>F</td>\n",
       "      <td>84</td>\n",
       "      <td>sc</td>\n",
       "      <td>MRI</td>\n",
       "      <td>MPR-R; GradWarp; B1 Correction; N3; Scaled</td>\n",
       "      <td>Processed</td>\n",
       "      <td>2/21/2006</td>\n",
       "      <td>NiFTI</td>\n",
       "      <td>1/29/2024</td>\n",
       "    </tr>\n",
       "    <tr>\n",
       "      <th>44</th>\n",
       "      <td>I39701</td>\n",
       "      <td>014_S_0658</td>\n",
       "      <td>MCI</td>\n",
       "      <td>M</td>\n",
       "      <td>72</td>\n",
       "      <td>sc</td>\n",
       "      <td>MRI</td>\n",
       "      <td>MPR; GradWarp; B1 Correction; N3; Scaled</td>\n",
       "      <td>Processed</td>\n",
       "      <td>7/25/2006</td>\n",
       "      <td>NiFTI</td>\n",
       "      <td>1/29/2024</td>\n",
       "    </tr>\n",
       "    <tr>\n",
       "      <th>45</th>\n",
       "      <td>I33644</td>\n",
       "      <td>021_S_0424</td>\n",
       "      <td>MCI</td>\n",
       "      <td>M</td>\n",
       "      <td>81</td>\n",
       "      <td>sc</td>\n",
       "      <td>MRI</td>\n",
       "      <td>MPR-R; GradWarp; N3; Scaled</td>\n",
       "      <td>Processed</td>\n",
       "      <td>4/20/2006</td>\n",
       "      <td>NiFTI</td>\n",
       "      <td>1/29/2024</td>\n",
       "    </tr>\n",
       "    <tr>\n",
       "      <th>47</th>\n",
       "      <td>I39909</td>\n",
       "      <td>073_S_0518</td>\n",
       "      <td>MCI</td>\n",
       "      <td>M</td>\n",
       "      <td>69</td>\n",
       "      <td>sc</td>\n",
       "      <td>MRI</td>\n",
       "      <td>MPR; GradWarp; B1 Correction; N3; Scaled</td>\n",
       "      <td>Processed</td>\n",
       "      <td>9/11/2006</td>\n",
       "      <td>NiFTI</td>\n",
       "      <td>1/29/2024</td>\n",
       "    </tr>\n",
       "    <tr>\n",
       "      <th>49</th>\n",
       "      <td>I34393</td>\n",
       "      <td>127_S_0393</td>\n",
       "      <td>MCI</td>\n",
       "      <td>F</td>\n",
       "      <td>86</td>\n",
       "      <td>sc</td>\n",
       "      <td>MRI</td>\n",
       "      <td>MPR-R; GradWarp; B1 Correction; N3; Scaled</td>\n",
       "      <td>Processed</td>\n",
       "      <td>4/12/2006</td>\n",
       "      <td>NiFTI</td>\n",
       "      <td>1/29/2024</td>\n",
       "    </tr>\n",
       "    <tr>\n",
       "      <th>52</th>\n",
       "      <td>I130252</td>\n",
       "      <td>068_S_1075</td>\n",
       "      <td>MCI</td>\n",
       "      <td>M</td>\n",
       "      <td>67</td>\n",
       "      <td>sc</td>\n",
       "      <td>MRI</td>\n",
       "      <td>MPR; ; N3; Scaled_2</td>\n",
       "      <td>Processed</td>\n",
       "      <td>12/14/2006</td>\n",
       "      <td>NiFTI</td>\n",
       "      <td>1/29/2024</td>\n",
       "    </tr>\n",
       "    <tr>\n",
       "      <th>53</th>\n",
       "      <td>I34680</td>\n",
       "      <td>041_S_0314</td>\n",
       "      <td>MCI</td>\n",
       "      <td>M</td>\n",
       "      <td>72</td>\n",
       "      <td>sc</td>\n",
       "      <td>MRI</td>\n",
       "      <td>MPR; GradWarp; B1 Correction; N3; Scaled</td>\n",
       "      <td>Processed</td>\n",
       "      <td>3/28/2006</td>\n",
       "      <td>NiFTI</td>\n",
       "      <td>1/29/2024</td>\n",
       "    </tr>\n",
       "    <tr>\n",
       "      <th>60</th>\n",
       "      <td>I35849</td>\n",
       "      <td>099_S_0111</td>\n",
       "      <td>MCI</td>\n",
       "      <td>F</td>\n",
       "      <td>76</td>\n",
       "      <td>sc</td>\n",
       "      <td>MRI</td>\n",
       "      <td>MPR; GradWarp; B1 Correction; N3; Scaled</td>\n",
       "      <td>Processed</td>\n",
       "      <td>1/18/2006</td>\n",
       "      <td>NiFTI</td>\n",
       "      <td>1/29/2024</td>\n",
       "    </tr>\n",
       "    <tr>\n",
       "      <th>63</th>\n",
       "      <td>I36509</td>\n",
       "      <td>018_S_0103</td>\n",
       "      <td>MCI</td>\n",
       "      <td>M</td>\n",
       "      <td>87</td>\n",
       "      <td>sc</td>\n",
       "      <td>MRI</td>\n",
       "      <td>MPR; ; N3; Scaled</td>\n",
       "      <td>Processed</td>\n",
       "      <td>1/05/2006</td>\n",
       "      <td>NiFTI</td>\n",
       "      <td>1/29/2024</td>\n",
       "    </tr>\n",
       "    <tr>\n",
       "      <th>67</th>\n",
       "      <td>I37199</td>\n",
       "      <td>018_S_0406</td>\n",
       "      <td>MCI</td>\n",
       "      <td>M</td>\n",
       "      <td>78</td>\n",
       "      <td>sc</td>\n",
       "      <td>MRI</td>\n",
       "      <td>MPR; ; N3; Scaled</td>\n",
       "      <td>Processed</td>\n",
       "      <td>4/20/2006</td>\n",
       "      <td>NiFTI</td>\n",
       "      <td>1/29/2024</td>\n",
       "    </tr>\n",
       "    <tr>\n",
       "      <th>82</th>\n",
       "      <td>I34231</td>\n",
       "      <td>027_S_0461</td>\n",
       "      <td>MCI</td>\n",
       "      <td>M</td>\n",
       "      <td>80</td>\n",
       "      <td>sc</td>\n",
       "      <td>MRI</td>\n",
       "      <td>MPR; GradWarp; B1 Correction; N3; Scaled</td>\n",
       "      <td>Processed</td>\n",
       "      <td>6/02/2006</td>\n",
       "      <td>NiFTI</td>\n",
       "      <td>1/29/2024</td>\n",
       "    </tr>\n",
       "    <tr>\n",
       "      <th>84</th>\n",
       "      <td>I130209</td>\n",
       "      <td>068_S_0478</td>\n",
       "      <td>MCI</td>\n",
       "      <td>M</td>\n",
       "      <td>56</td>\n",
       "      <td>sc</td>\n",
       "      <td>MRI</td>\n",
       "      <td>MPR-R; ; N3; Scaled_2</td>\n",
       "      <td>Processed</td>\n",
       "      <td>5/16/2006</td>\n",
       "      <td>NiFTI</td>\n",
       "      <td>1/29/2024</td>\n",
       "    </tr>\n",
       "  </tbody>\n",
       "</table>\n",
       "</div>"
      ],
      "text/plain": [
       "   Image Data ID     Subject Group Sex  Age Visit Modality  \\\n",
       "7         I31509  023_S_0855   MCI   M   76    sc      MRI   \n",
       "9         I39152  130_S_0783   MCI   F   79    sc      MRI   \n",
       "18        I40037  041_S_0598   MCI   M   72    sc      MRI   \n",
       "20        I34524  099_S_0291   MCI   M   79    sc      MRI   \n",
       "24        I34747  057_S_0941   MCI   F   73    sc      MRI   \n",
       "26        I35591  011_S_1080   MCI   M   82    sc      MRI   \n",
       "32        I35799  127_S_0112   MCI   M   71    sc      MRI   \n",
       "34        I36949  036_S_0673   MCI   M   78    sc      MRI   \n",
       "37        I31346  023_S_0217   MCI   F   84    sc      MRI   \n",
       "44        I39701  014_S_0658   MCI   M   72    sc      MRI   \n",
       "45        I33644  021_S_0424   MCI   M   81    sc      MRI   \n",
       "47        I39909  073_S_0518   MCI   M   69    sc      MRI   \n",
       "49        I34393  127_S_0393   MCI   F   86    sc      MRI   \n",
       "52       I130252  068_S_1075   MCI   M   67    sc      MRI   \n",
       "53        I34680  041_S_0314   MCI   M   72    sc      MRI   \n",
       "60        I35849  099_S_0111   MCI   F   76    sc      MRI   \n",
       "63        I36509  018_S_0103   MCI   M   87    sc      MRI   \n",
       "67        I37199  018_S_0406   MCI   M   78    sc      MRI   \n",
       "82        I34231  027_S_0461   MCI   M   80    sc      MRI   \n",
       "84       I130209  068_S_0478   MCI   M   56    sc      MRI   \n",
       "\n",
       "                                   Description       Type    Acq Date Format  \\\n",
       "7     MPR; GradWarp; B1 Correction; N3; Scaled  Processed   9/05/2006  NiFTI   \n",
       "9     MPR; GradWarp; B1 Correction; N3; Scaled  Processed   8/17/2006  NiFTI   \n",
       "18    MPR; GradWarp; B1 Correction; N3; Scaled  Processed   6/16/2006  NiFTI   \n",
       "20    MPR; GradWarp; B1 Correction; N3; Scaled  Processed   3/09/2006  NiFTI   \n",
       "24  MPR-R; GradWarp; B1 Correction; N3; Scaled  Processed  10/11/2006  NiFTI   \n",
       "26    MPR; GradWarp; B1 Correction; N3; Scaled  Processed  11/22/2006  NiFTI   \n",
       "32    MPR; GradWarp; B1 Correction; N3; Scaled  Processed   1/13/2006  NiFTI   \n",
       "34    MPR; GradWarp; B1 Correction; N3; Scaled  Processed   7/21/2006  NiFTI   \n",
       "37  MPR-R; GradWarp; B1 Correction; N3; Scaled  Processed   2/21/2006  NiFTI   \n",
       "44    MPR; GradWarp; B1 Correction; N3; Scaled  Processed   7/25/2006  NiFTI   \n",
       "45                 MPR-R; GradWarp; N3; Scaled  Processed   4/20/2006  NiFTI   \n",
       "47    MPR; GradWarp; B1 Correction; N3; Scaled  Processed   9/11/2006  NiFTI   \n",
       "49  MPR-R; GradWarp; B1 Correction; N3; Scaled  Processed   4/12/2006  NiFTI   \n",
       "52                         MPR; ; N3; Scaled_2  Processed  12/14/2006  NiFTI   \n",
       "53    MPR; GradWarp; B1 Correction; N3; Scaled  Processed   3/28/2006  NiFTI   \n",
       "60    MPR; GradWarp; B1 Correction; N3; Scaled  Processed   1/18/2006  NiFTI   \n",
       "63                           MPR; ; N3; Scaled  Processed   1/05/2006  NiFTI   \n",
       "67                           MPR; ; N3; Scaled  Processed   4/20/2006  NiFTI   \n",
       "82    MPR; GradWarp; B1 Correction; N3; Scaled  Processed   6/02/2006  NiFTI   \n",
       "84                       MPR-R; ; N3; Scaled_2  Processed   5/16/2006  NiFTI   \n",
       "\n",
       "   Downloaded  \n",
       "7   1/29/2024  \n",
       "9   1/29/2024  \n",
       "18  1/29/2024  \n",
       "20  1/29/2024  \n",
       "24  1/29/2024  \n",
       "26  1/29/2024  \n",
       "32  1/29/2024  \n",
       "34  1/29/2024  \n",
       "37  1/29/2024  \n",
       "44  1/29/2024  \n",
       "45  1/29/2024  \n",
       "47  1/29/2024  \n",
       "49  1/29/2024  \n",
       "52  1/29/2024  \n",
       "53  1/29/2024  \n",
       "60  1/29/2024  \n",
       "63  1/29/2024  \n",
       "67  1/29/2024  \n",
       "82  1/29/2024  \n",
       "84  1/29/2024  "
      ]
     },
     "execution_count": 6,
     "metadata": {},
     "output_type": "execute_result"
    }
   ],
   "source": [
    "df.head(20)"
   ]
  },
  {
   "cell_type": "code",
   "execution_count": 84,
   "id": "1d64d252-d9fb-4c05-be95-705ced241385",
   "metadata": {},
   "outputs": [],
   "source": [
    "# class VGG3D(nn.Module):\n",
    "#     def __init__(self, num_classes=3):  # Multiclass classification (e.g., AD, CN, another class)\n",
    "#         super(VGG3D, self).__init__()\n",
    "        \n",
    "#         # Define the convolutional layers\n",
    "#         self.features = nn.Sequential(\n",
    "#             # Block 1\n",
    "#             nn.Conv3d(1, 16, kernel_size=3, padding=1),\n",
    "#             nn.ReLU(inplace=True),\n",
    "#             nn.Conv3d(16, 16, kernel_size=3, padding=1),\n",
    "#             nn.ReLU(inplace=True),\n",
    "#             nn.MaxPool3d(kernel_size=2, stride=2),  # Downsample\n",
    "            \n",
    "#             # Block 2\n",
    "#             nn.Conv3d(16, 32, kernel_size=3, padding=1),\n",
    "#             nn.ReLU(inplace=True),\n",
    "#             nn.Conv3d(32, 32, kernel_size=3, padding=1),\n",
    "#             nn.ReLU(inplace=True),\n",
    "#             nn.MaxPool3d(kernel_size=2, stride=2),  # Downsample\n",
    "            \n",
    "#             # Block 3\n",
    "#             nn.Conv3d(32, 64, kernel_size=3, padding=1),\n",
    "#             nn.ReLU(inplace=True),\n",
    "#             nn.Conv3d(64, 64, kernel_size=3, padding=1),\n",
    "#             nn.ReLU(inplace=True),\n",
    "#             nn.Conv3d(64, 64, kernel_size=3, padding=1),\n",
    "#             nn.ReLU(inplace=True),\n",
    "#             nn.MaxPool3d(kernel_size=2, stride=2),  # Downsample\n",
    "            \n",
    "#             # Block 4\n",
    "#             nn.Conv3d(64, 128, kernel_size=3, padding=1),\n",
    "#             nn.ReLU(inplace=True),\n",
    "#             nn.Conv3d(128, 128, kernel_size=3, padding=1),\n",
    "#             nn.ReLU(inplace=True),\n",
    "#             nn.Conv3d(128, 128, kernel_size=3, padding=1),\n",
    "#             nn.ReLU(inplace=True),\n",
    "#             nn.MaxPool3d(kernel_size=2, stride=2),  # Downsample\n",
    "            \n",
    "#             # Block 5\n",
    "#             nn.Conv3d(128, 128, kernel_size=3, padding=1),\n",
    "#             nn.ReLU(inplace=True),\n",
    "#             nn.Conv3d(128, 128, kernel_size=3, padding=1),\n",
    "#             nn.ReLU(inplace=True),\n",
    "#             nn.Conv3d(128, 128, kernel_size=3, padding=1),\n",
    "#             nn.ReLU(inplace=True),\n",
    "#             nn.MaxPool3d(kernel_size=2, stride=2),  # Downsample\n",
    "#         )\n",
    "        \n",
    "#         # Fully connected layers\n",
    "#         self.avgpool = nn.AdaptiveAvgPool3d((1, 1, 1))  # Adaptive pooling to ensure fixed output size\n",
    "#         self.classifier = nn.Sequential(\n",
    "#             nn.Linear(128, 256),  # Match the flattened size from avgpool\n",
    "#             nn.ReLU(inplace=True),\n",
    "#             nn.Dropout(),\n",
    "#             nn.Linear(256, 256),\n",
    "#             nn.ReLU(inplace=True),\n",
    "#             nn.Dropout(),\n",
    "#             nn.Linear(256, num_classes)  # Output layer for num_classes\n",
    "#         )\n",
    "\n",
    "#     def forward(self, x):\n",
    "#         x = self.features(x)  # Convolutional blocks\n",
    "#         x = self.avgpool(x)   # Adaptive pooling\n",
    "#         x = torch.flatten(x, 1)  # Flatten for fully connected layers\n",
    "#         x = self.classifier(x)  # Fully connected layers\n",
    "#         return x"
   ]
  },
  {
   "cell_type": "code",
   "execution_count": 7,
   "id": "e3466dcc",
   "metadata": {},
   "outputs": [],
   "source": [
    "class VGG3D(nn.Module):\n",
    "\tdef __init__(self, num_classes=3, input_shape=(1,100,100,100)): # input: input_shape:\t[num_of_filters, kernel_size] (e.g. [256, 25])\n",
    "\t\tsuper(VGG3D, self).__init__()\n",
    "\t\tself.conv1 = nn.Sequential(\n",
    "\t\t\tnn.Conv3d(\n",
    "\t\t\t\tin_channels=input_shape[0],        # input height\n",
    "\t\t\t\tout_channels=8,       # n_filters\n",
    "\t\t\t\tkernel_size=(3,3,3),          # filter size\n",
    "\t\t\t\tpadding=1\n",
    "\t\t\t),\n",
    "            nn.ReLU(),\n",
    "            nn.Conv3d(\n",
    "\t\t\t\tin_channels=8,        # input height\n",
    "\t\t\t\tout_channels=8,       # n_filters\n",
    "\t\t\t\tkernel_size=(3,3,3),          # filter size\n",
    "\t\t\t\tpadding=1              \n",
    "            ),\n",
    "\t\t\tnn.ReLU(),                  # activation\n",
    "\t\t\tnn.MaxPool3d(kernel_size=(2,2,2), stride=2) # choose max value in 2x2 area\n",
    "\t\t)\n",
    "        \n",
    "\t\tself.conv2 = nn.Sequential(\n",
    "\t\t\tnn.Conv3d(\n",
    "\t\t\t\tin_channels=8,        # input height\n",
    "\t\t\t\tout_channels=16,       # n_filters\n",
    "\t\t\t\tkernel_size=(3,3,3),          # filter size\n",
    "\t\t\t\tpadding=1              \n",
    "\t\t\t),\n",
    "            nn.ReLU(),\n",
    "            nn.Conv3d(\n",
    "\t\t\t\tin_channels=16,        # input height\n",
    "\t\t\t\tout_channels=16,       # n_filters\n",
    "\t\t\t\tkernel_size=(3,3,3),          # filter size\n",
    "\t\t\t\tpadding=1                \n",
    "\t\t\t),\n",
    "\t\t\tnn.ReLU(),                  # activation\n",
    "\t\t\tnn.MaxPool3d(kernel_size=(2,2,2), stride=2) # choose max value in 2x2 area\n",
    "\t\t)\n",
    "        \n",
    "\t\tself.conv3 = nn.Sequential(\n",
    "\t\t\tnn.Conv3d(\n",
    "\t\t\t\tin_channels=16,        # input height\n",
    "\t\t\t\tout_channels=32,       # n_filters\n",
    "\t\t\t\tkernel_size=(3,3,3),          # filter size\n",
    "\t\t\t\tpadding=1               \n",
    "\t\t\t),\n",
    "            nn.ReLU(),\n",
    "            nn.Conv3d(\n",
    "\t\t\t\tin_channels=32,        # input height\n",
    "\t\t\t\tout_channels=32,       # n_filters\n",
    "\t\t\t\tkernel_size=(3,3,3),          # filter size\n",
    "\t\t\t\tpadding=1                \n",
    "\t\t\t),\n",
    "\t\t\tnn.ReLU(),                  # activation\n",
    "            nn.Conv3d(\n",
    "\t\t\t\tin_channels=32,        # input height\n",
    "\t\t\t\tout_channels=32,       # n_filters\n",
    "\t\t\t\tkernel_size=(3,3,3),          # filter size\n",
    "\t\t\t\tpadding=1              \n",
    "\t\t\t),\n",
    "\t\t\tnn.ReLU(),\n",
    "\t\t\tnn.MaxPool3d(kernel_size=(2,2,2), stride=2) # choose max value in 2x2 area\n",
    "\t\t)\n",
    "\n",
    "\t\tself.conv4 = nn.Sequential(\n",
    "\t\t\tnn.Conv3d(\n",
    "\t\t\t\tin_channels=32,        # input height\n",
    "\t\t\t\tout_channels=64,       # n_filters\n",
    "\t\t\t\tkernel_size=(3,3,3),          # filter size\n",
    "\t\t\t\tpadding=1                \n",
    "\t\t\t),\n",
    "            nn.ReLU(),\n",
    "            nn.Conv3d(\n",
    "\t\t\t\tin_channels=64,        # input height\n",
    "\t\t\t\tout_channels=64,       # n_filters\n",
    "\t\t\t\tkernel_size=(3,3,3),          # filter size\n",
    "\t\t\t\tpadding=1                \n",
    "\t\t\t),\n",
    "\t\t\tnn.ReLU(),                  # activation\n",
    "            nn.Conv3d(\n",
    "\t\t\t\tin_channels=64,        # input height\n",
    "\t\t\t\tout_channels=64,       # n_filters\n",
    "\t\t\t\tkernel_size=(3,3,3),          # filter size\n",
    "\t\t\t\tpadding=1\n",
    "\t\t\t),\n",
    "\t\t\tnn.ReLU(),\n",
    "\t\t\tnn.MaxPool3d(kernel_size=(2,2,2), stride=2) # choose max value in 2x2 area\n",
    "\t\t)\n",
    "\t\t\n",
    "\t\tfc1_output_features=128     \n",
    "\t\tself.fc1 = nn.Sequential(\n",
    "\t\t\t nn.Linear(13824, 128),\n",
    " \t\t\t nn.BatchNorm1d(128),            \n",
    "\t\t\t nn.ReLU()\n",
    "\t\t )\n",
    "\n",
    "\t\tfc2_output_features=64           \n",
    "\t\tself.fc2 = nn.Sequential(\n",
    "\t\t\t nn.Linear(fc1_output_features, fc2_output_features),\n",
    "\t\t\t nn.BatchNorm1d(fc2_output_features),\n",
    "\t\t\t nn.ReLU()\n",
    "\t\t )\n",
    "\n",
    "\t\tif(num_classes==2):\n",
    "\t\t\tself.out = nn.Linear(fc2_output_features, 2)\n",
    "\t\t\tself.out_act = nn.Sigmoid()\n",
    "\t\telse:\n",
    "\t\t\tself.out = nn.Linear(fc2_output_features, num_classes)\n",
    "\t\t\tself.out_act = nn.Softmax()\n",
    "\n",
    "\n",
    "\tdef forward(self, x, drop_prob=0.8):\n",
    "\n",
    "\t\tx = self.conv1(x)\n",
    "#\t\tprint(x.shape)        \n",
    "\t\tx = self.conv2(x)\n",
    "#\t\tprint(x.shape)        \n",
    "\t\tx = self.conv3(x)\n",
    "#\t\tprint(x.shape)        \n",
    "\t\tx = self.conv4(x)\n",
    "#\t\tprint(x.shape)        \n",
    "\t\tx = x.view(x.size(0), -1)           # flatten the output of conv2 to (batch_size, num_filter * w * h)\n",
    "#\t\tprint(x.shape)        \n",
    "\t\tx = self.fc1(x)\n",
    "\t\tx = nn.Dropout(drop_prob)(x)\n",
    "\t\tx = self.fc2(x)\n",
    "\t\t#x = nn.Dropout(drop_prob)(x)        \n",
    "\t\tprob = self.out(x) # probability\n",
    "# \t\ty_hat = self.out_act(prob) # label\n",
    "# \t\treturn y_hat, prob, x    # return x for visualization\n",
    "\t\treturn prob"
   ]
  },
  {
   "cell_type": "code",
   "execution_count": 8,
   "id": "9a14ff30-2bb4-4617-ae57-64f55cc57300",
   "metadata": {},
   "outputs": [],
   "source": [
    "class MriDataset():\n",
    "    def __init__(self, csv_path,transform=None):\n",
    "        self.data = pd.read_csv(csv_path)\n",
    "        self.transform = transform\n",
    "        self.le = LabelEncoder()  # Add this line\n",
    "        self.encoded_classes = self.le.fit_transform(self.data[\"Group\"].values)  # Add this line\n",
    "\n",
    "    \n",
    "    def __len__(self):\n",
    "        return len(self.data)\n",
    "\n",
    "    def _load_image(self, img_id, label):\n",
    "        # base = \"/kaggle/input/adni-1-5t-fastsurfer-quickseg/ADNI-1.5T-FastSurfer-QuickSeg\"\n",
    "        base = \"ADNI-1.5T-FastSurfer-QuickSeg/\"\n",
    "        img_id = img_id + \".nii\"\n",
    "        subject_dir = os.path.join(label, img_id, \"mri\")\n",
    "        \n",
    "        aseg_image = nibabel.load(os.path.join(subject_dir, \"aparc.DKTatlas+aseg.deep.mgz\"))\n",
    "        brain_image = nibabel.load(os.path.join(subject_dir, \"aparc.DKTatlas+aseg.deep.mgz\"))\n",
    "        \n",
    "        image = apply_mask(aseg_image, brain_image) #applying the selected labels\n",
    "        image = image.get_fdata()\n",
    "        \n",
    "        image_resized = resize_image(image) \n",
    "        image_resized = np.expand_dims(image_resized, axis=0)\n",
    "        image_resized = torch.tensor(image_resized, dtype=torch.float)\n",
    "        \n",
    "        return image_resized\n",
    "\n",
    "    def __getitem__(self, idx):\n",
    "        img_id = self.data.iloc[idx, 1]\n",
    "        label = self.data.iloc[idx, 3]\n",
    "        \n",
    "        img = self._load_image(img_id, label) #loading the image\n",
    "        one_hot_label = np.eye(len(self.le.classes_))[self.encoded_classes[idx]]\n",
    "        \n",
    "        #img = np.transpose(img, (2, 0, 1))    # Transpose the image to match PyTorch's tensor format (C x H x W)\n",
    "        if self.transform:\n",
    "            img = self.transform(img)\n",
    "        return img, one_hot_label"
   ]
  },
  {
   "cell_type": "code",
   "execution_count": 9,
   "id": "e86a84ac-20dd-459d-b2c3-80add3d1524d",
   "metadata": {},
   "outputs": [],
   "source": [
    "# Define transformations\n",
    "transform = transforms.Compose([\n",
    "#     transforms.ToTensor(),\n",
    "])\n",
    "\n",
    "dataset = MriDataset(csv_path=\"filter_csv.csv\", transform=transform)\n",
    "train_size = int(0.7 * len(dataset))\n",
    "validation_size = int(0.15 * len(dataset))\n",
    "test_size = len(dataset)-(train_size + validation_size)\n",
    "\n",
    "train_dataset, validation_dataset, test_dataset = random_split(dataset, [train_size, validation_size, test_size])"
   ]
  },
  {
   "cell_type": "code",
   "execution_count": 10,
   "id": "5a840c72-ea2c-4978-bf7b-61511fcd9d93",
   "metadata": {},
   "outputs": [
    {
     "data": {
      "text/plain": [
       "(256, 55, 56)"
      ]
     },
     "execution_count": 10,
     "metadata": {},
     "output_type": "execute_result"
    }
   ],
   "source": [
    "train_size, validation_size, test_size"
   ]
  },
  {
   "cell_type": "code",
   "execution_count": 11,
   "id": "3ad7cbe4-a3ab-4840-ac0d-3c92092df705",
   "metadata": {},
   "outputs": [],
   "source": [
    "# Load data\n",
    "train_loader = DataLoader(train_dataset, batch_size=20, shuffle=True, pin_memory = True)\n",
    "validation_loader = DataLoader(validation_dataset, batch_size = 20, shuffle=True, pin_memory = True)\n",
    "test_loader = DataLoader(test_dataset, batch_size = 20, shuffle=True, pin_memory = True)\n",
    "\n",
    "\n",
    "#model\n",
    "model = VGG3D(num_classes=3)\n",
    "# model = models.resnet18(pretrained = True)\n",
    "\n",
    "# model.conv1 = nn.Conv2d(150, 64, kernel_size=7, stride=2, padding=3, bias=False)\n",
    "# model.fc = nn.Linear(512, 3)\n",
    "\n",
    "criterion = nn.CrossEntropyLoss()\n",
    "optimizer = optim.Adam(model.parameters(), lr=0.001)"
   ]
  },
  {
   "cell_type": "code",
   "execution_count": 12,
   "id": "8ac86868-1e7f-4f37-ba6b-fb15b08d70d6",
   "metadata": {},
   "outputs": [
    {
     "name": "stdout",
     "output_type": "stream",
     "text": [
      "Requirement already satisfied: torchsummary in /opt/miniconda3/lib/python3.12/site-packages (1.5.1)\n",
      "Note: you may need to restart the kernel to use updated packages.\n"
     ]
    }
   ],
   "source": [
    "pip install torchsummary"
   ]
  },
  {
   "cell_type": "code",
   "execution_count": null,
   "id": "58bf0a8f-d14f-4945-abbc-49c65f8cd5a2",
   "metadata": {},
   "outputs": [],
   "source": [
    "\n"
   ]
  },
  {
   "cell_type": "code",
   "execution_count": 13,
   "id": "b6794946-fc89-4328-a4e3-73e43544c63c",
   "metadata": {},
   "outputs": [],
   "source": [
    "checkpoint_dir = \"checkpoint\"\n",
    "os.makedirs(checkpoint_dir, exist_ok=True)"
   ]
  },
  {
   "cell_type": "code",
   "execution_count": 14,
   "id": "5a4d1616-dc17-407d-ac58-455210f3d18d",
   "metadata": {},
   "outputs": [
    {
     "name": "stdout",
     "output_type": "stream",
     "text": [
      "CUDA can not be found, using CPU instead.\n"
     ]
    },
    {
     "name": "stderr",
     "output_type": "stream",
     "text": [
      "Epochs:   5%|▍         | 1/22 [05:04<1:46:39, 304.72s/epoch]"
     ]
    },
    {
     "name": "stdout",
     "output_type": "stream",
     "text": [
      "Epoch: 1/22, Loss: 1.2399, Accuracy: 30.0781%\n"
     ]
    },
    {
     "name": "stderr",
     "output_type": "stream",
     "text": [
      "Epochs:   9%|▉         | 2/22 [10:15<1:42:47, 308.39s/epoch]"
     ]
    },
    {
     "name": "stdout",
     "output_type": "stream",
     "text": [
      "Epoch: 2/22, Loss: 1.1287, Accuracy: 38.6719%\n"
     ]
    },
    {
     "name": "stderr",
     "output_type": "stream",
     "text": [
      "Epochs:  14%|█▎        | 3/22 [15:47<1:41:02, 319.10s/epoch]"
     ]
    },
    {
     "name": "stdout",
     "output_type": "stream",
     "text": [
      "Epoch: 3/22, Loss: 1.1090, Accuracy: 39.8438%\n"
     ]
    },
    {
     "name": "stderr",
     "output_type": "stream",
     "text": [
      "Epochs:  18%|█▊        | 4/22 [21:29<1:38:24, 328.05s/epoch]"
     ]
    },
    {
     "name": "stdout",
     "output_type": "stream",
     "text": [
      "Epoch: 4/22, Loss: 1.1719, Accuracy: 42.1875%\n"
     ]
    },
    {
     "name": "stderr",
     "output_type": "stream",
     "text": [
      "Epochs:  23%|██▎       | 5/22 [57:30<4:40:12, 988.95s/epoch]"
     ]
    },
    {
     "name": "stdout",
     "output_type": "stream",
     "text": [
      "Epoch: 5/22, Loss: 1.0959, Accuracy: 40.6250%\n"
     ]
    },
    {
     "name": "stderr",
     "output_type": "stream",
     "text": [
      "Epochs:  27%|██▋       | 6/22 [1:02:32<3:21:29, 755.56s/epoch]"
     ]
    },
    {
     "name": "stdout",
     "output_type": "stream",
     "text": [
      "Epoch: 6/22, Loss: 1.0966, Accuracy: 38.6719%\n"
     ]
    },
    {
     "name": "stderr",
     "output_type": "stream",
     "text": [
      "Epochs:  32%|███▏      | 7/22 [1:07:42<2:32:26, 609.79s/epoch]"
     ]
    },
    {
     "name": "stdout",
     "output_type": "stream",
     "text": [
      "Epoch: 7/22, Loss: 1.1129, Accuracy: 38.6719%\n"
     ]
    },
    {
     "name": "stderr",
     "output_type": "stream",
     "text": [
      "Epochs:  36%|███▋      | 8/22 [1:21:32<2:38:37, 679.83s/epoch]"
     ]
    },
    {
     "name": "stdout",
     "output_type": "stream",
     "text": [
      "Epoch: 8/22, Loss: 1.1186, Accuracy: 39.8438%\n"
     ]
    },
    {
     "name": "stderr",
     "output_type": "stream",
     "text": [
      "Epochs:  41%|████      | 9/22 [1:26:38<2:02:01, 563.16s/epoch]"
     ]
    },
    {
     "name": "stdout",
     "output_type": "stream",
     "text": [
      "Epoch: 9/22, Loss: 0.9140, Accuracy: 44.5312%\n"
     ]
    },
    {
     "name": "stderr",
     "output_type": "stream",
     "text": [
      "Epochs:  45%|████▌     | 10/22 [1:31:50<1:37:07, 485.59s/epoch]"
     ]
    },
    {
     "name": "stdout",
     "output_type": "stream",
     "text": [
      "Epoch: 10/22, Loss: 1.0543, Accuracy: 42.1875%\n"
     ]
    },
    {
     "name": "stderr",
     "output_type": "stream",
     "text": [
      "Epochs:  50%|█████     | 11/22 [1:37:14<1:19:57, 436.18s/epoch]"
     ]
    },
    {
     "name": "stdout",
     "output_type": "stream",
     "text": [
      "Epoch: 11/22, Loss: 1.1616, Accuracy: 47.2656%\n"
     ]
    },
    {
     "name": "stderr",
     "output_type": "stream",
     "text": [
      "Epochs:  55%|█████▍    | 12/22 [1:42:49<1:07:34, 405.44s/epoch]"
     ]
    },
    {
     "name": "stdout",
     "output_type": "stream",
     "text": [
      "Epoch: 12/22, Loss: 1.0092, Accuracy: 48.0469%\n"
     ]
    },
    {
     "name": "stderr",
     "output_type": "stream",
     "text": [
      "Epochs:  59%|█████▉    | 13/22 [1:48:31<57:54, 386.04s/epoch]  "
     ]
    },
    {
     "name": "stdout",
     "output_type": "stream",
     "text": [
      "Epoch: 13/22, Loss: 1.1040, Accuracy: 48.4375%\n"
     ]
    },
    {
     "name": "stderr",
     "output_type": "stream",
     "text": [
      "Epochs:  64%|██████▎   | 14/22 [1:54:15<49:47, 373.45s/epoch]"
     ]
    },
    {
     "name": "stdout",
     "output_type": "stream",
     "text": [
      "Epoch: 14/22, Loss: 1.0919, Accuracy: 44.9219%\n"
     ]
    },
    {
     "name": "stderr",
     "output_type": "stream",
     "text": [
      "Epochs:  68%|██████▊   | 15/22 [1:59:58<42:28, 364.14s/epoch]"
     ]
    },
    {
     "name": "stdout",
     "output_type": "stream",
     "text": [
      "Epoch: 15/22, Loss: 1.0713, Accuracy: 44.9219%\n"
     ]
    },
    {
     "name": "stderr",
     "output_type": "stream",
     "text": [
      "Epochs:  73%|███████▎  | 16/22 [2:05:33<35:31, 355.32s/epoch]"
     ]
    },
    {
     "name": "stdout",
     "output_type": "stream",
     "text": [
      "Epoch: 16/22, Loss: 0.9203, Accuracy: 45.7031%\n"
     ]
    },
    {
     "name": "stderr",
     "output_type": "stream",
     "text": [
      "Epochs:  77%|███████▋  | 17/22 [2:11:08<29:06, 349.36s/epoch]"
     ]
    },
    {
     "name": "stdout",
     "output_type": "stream",
     "text": [
      "Epoch: 17/22, Loss: 1.0574, Accuracy: 53.1250%\n"
     ]
    },
    {
     "name": "stderr",
     "output_type": "stream",
     "text": [
      "Epochs:  82%|████████▏ | 18/22 [2:16:50<23:08, 347.13s/epoch]"
     ]
    },
    {
     "name": "stdout",
     "output_type": "stream",
     "text": [
      "Epoch: 18/22, Loss: 0.9707, Accuracy: 51.9531%\n"
     ]
    },
    {
     "name": "stderr",
     "output_type": "stream",
     "text": [
      "Epochs:  86%|████████▋ | 19/22 [2:22:35<17:19, 346.40s/epoch]"
     ]
    },
    {
     "name": "stdout",
     "output_type": "stream",
     "text": [
      "Epoch: 19/22, Loss: 0.9289, Accuracy: 50.7812%\n"
     ]
    },
    {
     "name": "stderr",
     "output_type": "stream",
     "text": [
      "Epochs:  91%|█████████ | 20/22 [2:28:22<11:33, 346.81s/epoch]"
     ]
    },
    {
     "name": "stdout",
     "output_type": "stream",
     "text": [
      "Epoch: 20/22, Loss: 0.9017, Accuracy: 53.5156%\n"
     ]
    },
    {
     "name": "stderr",
     "output_type": "stream",
     "text": [
      "Epochs:  95%|█████████▌| 21/22 [2:34:22<05:50, 350.49s/epoch]"
     ]
    },
    {
     "name": "stdout",
     "output_type": "stream",
     "text": [
      "Epoch: 21/22, Loss: 0.8894, Accuracy: 57.0312%\n"
     ]
    },
    {
     "name": "stderr",
     "output_type": "stream",
     "text": [
      "Epochs: 100%|██████████| 22/22 [2:40:21<00:00, 437.32s/epoch]"
     ]
    },
    {
     "name": "stdout",
     "output_type": "stream",
     "text": [
      "Epoch: 22/22, Loss: 0.8008, Accuracy: 55.0781%\n",
      "Final model saved.\n"
     ]
    },
    {
     "name": "stderr",
     "output_type": "stream",
     "text": [
      "\n"
     ]
    }
   ],
   "source": [
    "from tqdm import tqdm  # Import tqdm for progress tracking\n",
    "\n",
    "# Set the device only once and use it throughout; no need to check every time\n",
    "device = torch.device(\"cuda\" if torch.cuda.is_available() else \"cpu\")\n",
    "if device.type == 'cuda':\n",
    "    print(f\"Using {torch.cuda.get_device_name(0)}\")\n",
    "else:\n",
    "    print(\"CUDA can not be found, using CPU instead.\")\n",
    "\n",
    "num_epochs = 22  # number of epochs\n",
    "loss_list = []  # To store loss after each epoch\n",
    "accuracy_list = []  # To store accuracy after each epoch\n",
    "\n",
    "# Move the model to the device once instead of inside the loop\n",
    "model.to(device)\n",
    "\n",
    "for epoch in tqdm(range(num_epochs), desc=\"Epochs\", unit=\"epoch\"):\n",
    "    torch.cuda.empty_cache()  # Clear CUDA cache to free memory\n",
    "    \n",
    "    model.train()  # Set the model to training mode\n",
    "    total = 0\n",
    "    correct_count = 0\n",
    "    \n",
    "    for batch_idx, (data, target) in tqdm(enumerate(train_loader), desc=f\"Epoch {epoch + 1}\", unit=\"batch\", leave=False):\n",
    "        # for batch_idx, data in tqdm(enumerate(dataloader), desc=f\"Epoch {epoch + 1}\", unit=\"batch\", leave=False):\n",
    "        data, target = data.to(device, dtype=torch.float), target.to(device)\n",
    "        \n",
    "        # Forward pass\n",
    "        # print(\"data shape\", data.shape)\n",
    "        output = model(data)\n",
    "        # print(\"output shape\", output.shape)\n",
    "        # print(\"target shape\", target.shape)\n",
    "        loss = criterion(output, target)\n",
    "        \n",
    "        # Backward pass and optimization\n",
    "        optimizer.zero_grad()\n",
    "        loss.backward()\n",
    "        optimizer.step() \n",
    "        \n",
    "        # Adjust target shape if necessary (See Note below)\n",
    "        if target.ndim > 1 and target.size(1) > 1:  # Case for one-hot encoded targets\n",
    "            target = torch.argmax(target, dim=1)\n",
    "        elif target.ndim > 1 and target.size(1) == 1:  # Case for extra singleton dimension\n",
    "            target = target.squeeze()\n",
    "\n",
    "        # Calculate accuracy\n",
    "        correct = (torch.argmax(output, dim=1) == target).sum().item()\n",
    "        correct_count += correct\n",
    "        total += target.size(0)\n",
    "    \n",
    "    # Log the epoch's results\n",
    "    accuracy = (correct_count / total) * 100\n",
    "    loss_list.append(loss.item())\n",
    "    accuracy_list.append(accuracy)\n",
    "    print(f\"Epoch: {epoch+1}/{num_epochs}, Loss: {loss.item():.4f}, Accuracy: {accuracy:.4f}%\")\n",
    "    \n",
    "    # # Save checkpoints at specified intervals\n",
    "    # if (epoch + 1) % 5 == 0:stat_result = os.stat(filename)\n",
    "    #     checkpoint_dir = \"checkpoint_dir\"  # We need to make sure this directory exists or create it\n",
    "    #     if not os.path.exists(checkpoint_dir):\n",
    "    #         os.makedirs(checkpoint_dir)\n",
    "    #     checkpoint_path = os.path.join(checkpoint_dir, f\"model_epoch_{epoch+1}.pt\")\n",
    "    #     torch.save({\n",
    "    #         'epoch': epoch + 1,\n",
    "    #         'model_state_dict': model.state_dict(),\n",
    "    #         'optimizer_state_dict': optimizer.state_dict(),\n",
    "    #         'loss': loss.item(),\n",
    "    #     }, checkpoint_path)\n",
    "    #     print(f\"Checkpoint saved to {checkpoint_path}\")\n",
    "    \n",
    "# Save the final model\n",
    "# torch.save(model.state_dict(), \"model_final.pt\")\n",
    "print(\"Final model saved.\")"
   ]
  },
  {
   "cell_type": "code",
   "execution_count": 15,
   "id": "497a03a9-7f8b-4242-8084-926520bba758",
   "metadata": {},
   "outputs": [
    {
     "data": {
      "text/plain": [
       "Text(0.5, 1.0, 'Training Accuracy')"
      ]
     },
     "execution_count": 15,
     "metadata": {},
     "output_type": "execute_result"
    },
    {
     "data": {
      "image/png": "[encoded data removed]",
      "text/plain": [
       "<Figure size 1200x600 with 2 Axes>"
      ]
     },
     "metadata": {},
     "output_type": "display_data"
    }
   ],
   "source": [
    "_, (loss_graph, accuracy_graph) = plt.subplots(1, 2, figsize=(12,6))\n",
    "\n",
    "loss_graph.plot(loss_list)\n",
    "loss_graph.set_xlabel(\"Epoch\")\n",
    "loss_graph.set_ylabel(\"Loss\")\n",
    "loss_graph.set_title(\"Training Loss\")\n",
    "\n",
    "accuracy_graph.plot(accuracy_list)\n",
    "accuracy_graph.set_xlabel(\"Epoch\")\n",
    "accuracy_graph.set_ylabel(\"Loss\")\n",
    "accuracy_graph.set_title(\"Training Accuracy\")"
   ]
  },
  {
   "cell_type": "code",
   "execution_count": 16,
   "id": "f067fb9d-8ead-421a-a295-42c7af580935",
   "metadata": {},
   "outputs": [
    {
     "name": "stderr",
     "output_type": "stream",
     "text": [
      "/var/folders/t8/7_xrfl3x54j_kq_mpj3d6jp40000gn/T/ipykernel_5874/318942741.py:7: UserWarning: To copy construct from a tensor, it is recommended to use sourceTensor.clone().detach() or sourceTensor.clone().detach().requires_grad_(True), rather than torch.tensor(sourceTensor).\n",
      "  data, target = data.to(device, dtype = torch.float), torch.tensor(target).to(device)\n"
     ]
    },
    {
     "name": "stdout",
     "output_type": "stream",
     "text": [
      "Validation accuracy: 45.45%\n"
     ]
    }
   ],
   "source": [
    "model.eval()\n",
    "all_preds = []\n",
    "all_labels = []\n",
    "with torch.no_grad():\n",
    "    for data, target in validation_loader:\n",
    "        model = model.to(device)\n",
    "        data, target = data.to(device, dtype = torch.float), torch.tensor(target).to(device)\n",
    "        output = model(data)\n",
    "        output = output.cpu()\n",
    "        target = target.cpu()\n",
    "        \n",
    "        all_preds.extend(torch.argmax(output, dim = 1))\n",
    "        all_labels.extend(torch.argmax(target, dim=1))\n",
    "\n",
    "\n",
    "accuracy = accuracy_score(all_labels, all_preds)\n",
    "print(f\"Validation accuracy: {accuracy * 100:.2f}%\")"
   ]
  },
  {
   "cell_type": "code",
   "execution_count": 17,
   "id": "160a3178-2f6a-4be6-990d-727e7e77d52f",
   "metadata": {},
   "outputs": [
    {
     "name": "stderr",
     "output_type": "stream",
     "text": [
      "/var/folders/t8/7_xrfl3x54j_kq_mpj3d6jp40000gn/T/ipykernel_5874/1349234065.py:8: UserWarning: To copy construct from a tensor, it is recommended to use sourceTensor.clone().detach() or sourceTensor.clone().detach().requires_grad_(True), rather than torch.tensor(sourceTensor).\n",
      "  data, target = data.to(device, dtype = torch.float), torch.tensor(target).to(device)\n"
     ]
    },
    {
     "name": "stdout",
     "output_type": "stream",
     "text": [
      "Test accuracy: 45.45%\n"
     ]
    }
   ],
   "source": [
    "#given the following data:\n",
    "model.eval()\n",
    "test_preds = []\n",
    "test_labels = []\n",
    "with torch.no_grad():\n",
    "    for data, target in test_loader:\n",
    "        model = model.to(device)\n",
    "        data, target = data.to(device, dtype = torch.float), torch.tensor(target).to(device)\n",
    "        output = model(data)\n",
    "        output = output.cpu()\n",
    "        target = target.cpu()\n",
    "        \n",
    "        test_preds.extend(torch.argmax(output, dim = 1))\n",
    "        test_labels.extend(torch.argmax(target, dim=1))\n",
    "\n",
    "\n",
    "accuracy = accuracy_score(all_labels, all_preds)\n",
    "print(f\"Test accuracy: {accuracy * 100:.2f}%\")"
   ]
  },
  {
   "cell_type": "code",
   "execution_count": 18,
   "id": "edf91406-2614-4738-be8a-b199f6ddb06d",
   "metadata": {},
   "outputs": [
    {
     "name": "stdout",
     "output_type": "stream",
     "text": [
      "Test accuracy: 32.14%\n",
      "Precision: 0.11\n",
      "F1 Score: 0.16\n"
     ]
    },
    {
     "name": "stderr",
     "output_type": "stream",
     "text": [
      "/opt/miniconda3/lib/python3.12/site-packages/sklearn/metrics/_classification.py:1531: UndefinedMetricWarning: Precision is ill-defined and being set to 0.0 in labels with no predicted samples. Use `zero_division` parameter to control this behavior.\n",
      "  _warn_prf(average, modifier, f\"{metric.capitalize()} is\", len(result))\n"
     ]
    },
    {
     "ename": "ValueError",
     "evalue": "Found input variables with inconsistent numbers of samples: [56, 16]",
     "output_type": "error",
     "traceback": [
      "\u001b[0;31m---------------------------------------------------------------------------\u001b[0m",
      "\u001b[0;31mValueError\u001b[0m                                Traceback (most recent call last)",
      "Cell \u001b[0;32mIn[18], line 38\u001b[0m\n\u001b[1;32m     36\u001b[0m     test_labels_one_hot \u001b[38;5;241m=\u001b[39m np\u001b[38;5;241m.\u001b[39meye(\u001b[38;5;28mlen\u001b[39m(\u001b[38;5;28mset\u001b[39m(test_labels)))[test_labels]  \u001b[38;5;66;03m# One-hot encoding\u001b[39;00m\n\u001b[1;32m     37\u001b[0m     output_probs \u001b[38;5;241m=\u001b[39m torch\u001b[38;5;241m.\u001b[39mnn\u001b[38;5;241m.\u001b[39mfunctional\u001b[38;5;241m.\u001b[39msoftmax(output\u001b[38;5;241m.\u001b[39mcpu(), dim\u001b[38;5;241m=\u001b[39m\u001b[38;5;241m1\u001b[39m)\u001b[38;5;241m.\u001b[39mnumpy()\n\u001b[0;32m---> 38\u001b[0m     auc_roc \u001b[38;5;241m=\u001b[39m \u001b[43mroc_auc_score\u001b[49m\u001b[43m(\u001b[49m\u001b[43mtest_labels_one_hot\u001b[49m\u001b[43m,\u001b[49m\u001b[43m \u001b[49m\u001b[43moutput_probs\u001b[49m\u001b[43m,\u001b[49m\u001b[43m \u001b[49m\u001b[43mmulti_class\u001b[49m\u001b[38;5;241;43m=\u001b[39;49m\u001b[38;5;124;43m\"\u001b[39;49m\u001b[38;5;124;43movr\u001b[39;49m\u001b[38;5;124;43m\"\u001b[39;49m\u001b[43m)\u001b[49m\n\u001b[1;32m     39\u001b[0m \u001b[38;5;28;01melse\u001b[39;00m:\n\u001b[1;32m     40\u001b[0m     output_probs \u001b[38;5;241m=\u001b[39m torch\u001b[38;5;241m.\u001b[39mnn\u001b[38;5;241m.\u001b[39mfunctional\u001b[38;5;241m.\u001b[39msoftmax(output\u001b[38;5;241m.\u001b[39mcpu(), dim\u001b[38;5;241m=\u001b[39m\u001b[38;5;241m1\u001b[39m)[:, \u001b[38;5;241m1\u001b[39m]\u001b[38;5;241m.\u001b[39mnumpy()\n",
      "File \u001b[0;32m/opt/miniconda3/lib/python3.12/site-packages/sklearn/utils/_param_validation.py:213\u001b[0m, in \u001b[0;36mvalidate_params.<locals>.decorator.<locals>.wrapper\u001b[0;34m(*args, **kwargs)\u001b[0m\n\u001b[1;32m    207\u001b[0m \u001b[38;5;28;01mtry\u001b[39;00m:\n\u001b[1;32m    208\u001b[0m     \u001b[38;5;28;01mwith\u001b[39;00m config_context(\n\u001b[1;32m    209\u001b[0m         skip_parameter_validation\u001b[38;5;241m=\u001b[39m(\n\u001b[1;32m    210\u001b[0m             prefer_skip_nested_validation \u001b[38;5;129;01mor\u001b[39;00m global_skip_validation\n\u001b[1;32m    211\u001b[0m         )\n\u001b[1;32m    212\u001b[0m     ):\n\u001b[0;32m--> 213\u001b[0m         \u001b[38;5;28;01mreturn\u001b[39;00m \u001b[43mfunc\u001b[49m\u001b[43m(\u001b[49m\u001b[38;5;241;43m*\u001b[39;49m\u001b[43margs\u001b[49m\u001b[43m,\u001b[49m\u001b[43m \u001b[49m\u001b[38;5;241;43m*\u001b[39;49m\u001b[38;5;241;43m*\u001b[39;49m\u001b[43mkwargs\u001b[49m\u001b[43m)\u001b[49m\n\u001b[1;32m    214\u001b[0m \u001b[38;5;28;01mexcept\u001b[39;00m InvalidParameterError \u001b[38;5;28;01mas\u001b[39;00m e:\n\u001b[1;32m    215\u001b[0m     \u001b[38;5;66;03m# When the function is just a wrapper around an estimator, we allow\u001b[39;00m\n\u001b[1;32m    216\u001b[0m     \u001b[38;5;66;03m# the function to delegate validation to the estimator, but we replace\u001b[39;00m\n\u001b[1;32m    217\u001b[0m     \u001b[38;5;66;03m# the name of the estimator by the name of the function in the error\u001b[39;00m\n\u001b[1;32m    218\u001b[0m     \u001b[38;5;66;03m# message to avoid confusion.\u001b[39;00m\n\u001b[1;32m    219\u001b[0m     msg \u001b[38;5;241m=\u001b[39m re\u001b[38;5;241m.\u001b[39msub(\n\u001b[1;32m    220\u001b[0m         \u001b[38;5;124mr\u001b[39m\u001b[38;5;124m\"\u001b[39m\u001b[38;5;124mparameter of \u001b[39m\u001b[38;5;124m\\\u001b[39m\u001b[38;5;124mw+ must be\u001b[39m\u001b[38;5;124m\"\u001b[39m,\n\u001b[1;32m    221\u001b[0m         \u001b[38;5;124mf\u001b[39m\u001b[38;5;124m\"\u001b[39m\u001b[38;5;124mparameter of \u001b[39m\u001b[38;5;132;01m{\u001b[39;00mfunc\u001b[38;5;241m.\u001b[39m\u001b[38;5;18m__qualname__\u001b[39m\u001b[38;5;132;01m}\u001b[39;00m\u001b[38;5;124m must be\u001b[39m\u001b[38;5;124m\"\u001b[39m,\n\u001b[1;32m    222\u001b[0m         \u001b[38;5;28mstr\u001b[39m(e),\n\u001b[1;32m    223\u001b[0m     )\n",
      "File \u001b[0;32m/opt/miniconda3/lib/python3.12/site-packages/sklearn/metrics/_ranking.py:648\u001b[0m, in \u001b[0;36mroc_auc_score\u001b[0;34m(y_true, y_score, average, sample_weight, max_fpr, multi_class, labels)\u001b[0m\n\u001b[1;32m    640\u001b[0m     \u001b[38;5;28;01mreturn\u001b[39;00m _average_binary_score(\n\u001b[1;32m    641\u001b[0m         partial(_binary_roc_auc_score, max_fpr\u001b[38;5;241m=\u001b[39mmax_fpr),\n\u001b[1;32m    642\u001b[0m         y_true,\n\u001b[0;32m   (...)\u001b[0m\n\u001b[1;32m    645\u001b[0m         sample_weight\u001b[38;5;241m=\u001b[39msample_weight,\n\u001b[1;32m    646\u001b[0m     )\n\u001b[1;32m    647\u001b[0m \u001b[38;5;28;01melse\u001b[39;00m:  \u001b[38;5;66;03m# multilabel-indicator\u001b[39;00m\n\u001b[0;32m--> 648\u001b[0m     \u001b[38;5;28;01mreturn\u001b[39;00m \u001b[43m_average_binary_score\u001b[49m\u001b[43m(\u001b[49m\n\u001b[1;32m    649\u001b[0m \u001b[43m        \u001b[49m\u001b[43mpartial\u001b[49m\u001b[43m(\u001b[49m\u001b[43m_binary_roc_auc_score\u001b[49m\u001b[43m,\u001b[49m\u001b[43m \u001b[49m\u001b[43mmax_fpr\u001b[49m\u001b[38;5;241;43m=\u001b[39;49m\u001b[43mmax_fpr\u001b[49m\u001b[43m)\u001b[49m\u001b[43m,\u001b[49m\n\u001b[1;32m    650\u001b[0m \u001b[43m        \u001b[49m\u001b[43my_true\u001b[49m\u001b[43m,\u001b[49m\n\u001b[1;32m    651\u001b[0m \u001b[43m        \u001b[49m\u001b[43my_score\u001b[49m\u001b[43m,\u001b[49m\n\u001b[1;32m    652\u001b[0m \u001b[43m        \u001b[49m\u001b[43maverage\u001b[49m\u001b[43m,\u001b[49m\n\u001b[1;32m    653\u001b[0m \u001b[43m        \u001b[49m\u001b[43msample_weight\u001b[49m\u001b[38;5;241;43m=\u001b[39;49m\u001b[43msample_weight\u001b[49m\u001b[43m,\u001b[49m\n\u001b[1;32m    654\u001b[0m \u001b[43m    \u001b[49m\u001b[43m)\u001b[49m\n",
      "File \u001b[0;32m/opt/miniconda3/lib/python3.12/site-packages/sklearn/metrics/_base.py:78\u001b[0m, in \u001b[0;36m_average_binary_score\u001b[0;34m(binary_metric, y_true, y_score, average, sample_weight)\u001b[0m\n\u001b[1;32m     75\u001b[0m \u001b[38;5;28;01mif\u001b[39;00m y_type \u001b[38;5;241m==\u001b[39m \u001b[38;5;124m\"\u001b[39m\u001b[38;5;124mbinary\u001b[39m\u001b[38;5;124m\"\u001b[39m:\n\u001b[1;32m     76\u001b[0m     \u001b[38;5;28;01mreturn\u001b[39;00m binary_metric(y_true, y_score, sample_weight\u001b[38;5;241m=\u001b[39msample_weight)\n\u001b[0;32m---> 78\u001b[0m \u001b[43mcheck_consistent_length\u001b[49m\u001b[43m(\u001b[49m\u001b[43my_true\u001b[49m\u001b[43m,\u001b[49m\u001b[43m \u001b[49m\u001b[43my_score\u001b[49m\u001b[43m,\u001b[49m\u001b[43m \u001b[49m\u001b[43msample_weight\u001b[49m\u001b[43m)\u001b[49m\n\u001b[1;32m     79\u001b[0m y_true \u001b[38;5;241m=\u001b[39m check_array(y_true)\n\u001b[1;32m     80\u001b[0m y_score \u001b[38;5;241m=\u001b[39m check_array(y_score)\n",
      "File \u001b[0;32m/opt/miniconda3/lib/python3.12/site-packages/sklearn/utils/validation.py:457\u001b[0m, in \u001b[0;36mcheck_consistent_length\u001b[0;34m(*arrays)\u001b[0m\n\u001b[1;32m    455\u001b[0m uniques \u001b[38;5;241m=\u001b[39m np\u001b[38;5;241m.\u001b[39munique(lengths)\n\u001b[1;32m    456\u001b[0m \u001b[38;5;28;01mif\u001b[39;00m \u001b[38;5;28mlen\u001b[39m(uniques) \u001b[38;5;241m>\u001b[39m \u001b[38;5;241m1\u001b[39m:\n\u001b[0;32m--> 457\u001b[0m     \u001b[38;5;28;01mraise\u001b[39;00m \u001b[38;5;167;01mValueError\u001b[39;00m(\n\u001b[1;32m    458\u001b[0m         \u001b[38;5;124m\"\u001b[39m\u001b[38;5;124mFound input variables with inconsistent numbers of samples: \u001b[39m\u001b[38;5;132;01m%r\u001b[39;00m\u001b[38;5;124m\"\u001b[39m\n\u001b[1;32m    459\u001b[0m         \u001b[38;5;241m%\u001b[39m [\u001b[38;5;28mint\u001b[39m(l) \u001b[38;5;28;01mfor\u001b[39;00m l \u001b[38;5;129;01min\u001b[39;00m lengths]\n\u001b[1;32m    460\u001b[0m     )\n",
      "\u001b[0;31mValueError\u001b[0m: Found input variables with inconsistent numbers of samples: [56, 16]"
     ]
    }
   ],
   "source": [
    "from sklearn.metrics import precision_score, f1_score, roc_auc_score, accuracy_score\n",
    "\n",
    "model.eval()\n",
    "test_preds = []\n",
    "test_labels = []\n",
    "\n",
    "# Ensure evaluation without gradient calculation\n",
    "with torch.no_grad():\n",
    "    for data, target in test_loader:\n",
    "        # Move data and model to device\n",
    "        model = model.to(device)\n",
    "        data, target = data.to(device, dtype=torch.float), target.to(device)\n",
    "        \n",
    "        # Forward pass\n",
    "        output = model(data)\n",
    "        \n",
    "        # Collect predictions and true labels\n",
    "        test_preds.extend(torch.argmax(output.cpu(), dim=1).numpy())\n",
    "        test_labels.extend(torch.argmax(target.cpu(), dim=1).numpy())\n",
    "\n",
    "# Compute accuracy\n",
    "accuracy = accuracy_score(test_labels, test_preds)\n",
    "print(f\"Test accuracy: {accuracy * 100:.2f}%\")\n",
    "\n",
    "# Compute precision\n",
    "precision = precision_score(test_labels, test_preds, average='weighted')  # 'weighted' for multi-class tasks\n",
    "print(f\"Precision: {precision:.2f}\")\n",
    "\n",
    "# Compute F1 score\n",
    "f1 = f1_score(test_labels, test_preds, average='weighted')  # Adjust 'average' as needed\n",
    "print(f\"F1 Score: {f1:.2f}\")\n",
    "\n",
    "# Compute AUC-ROC\n",
    "# For multi-class problems, provide one-hot encoding of test_labels and test_preds probabilities\n",
    "if len(set(test_labels)) > 2:  # Check if multi-class\n",
    "    test_labels_one_hot = np.eye(len(set(test_labels)))[test_labels]  # One-hot encoding\n",
    "    output_probs = torch.nn.functional.softmax(output.cpu(), dim=1).numpy()\n",
    "    auc_roc = roc_auc_score(test_labels_one_hot, output_probs, multi_class=\"ovr\")\n",
    "else:\n",
    "    output_probs = torch.nn.functional.softmax(output.cpu(), dim=1)[:, 1].numpy()\n",
    "    auc_roc = roc_auc_score(test_labels, output_probs)\n",
    "\n",
    "print(f\"AUC-ROC: {auc_roc:.2f}\")\n"
   ]
  },
  {
   "cell_type": "code",
   "execution_count": null,
   "id": "b2683fdf-b478-48aa-9235-1fc1f6c576f7",
   "metadata": {},
   "outputs": [],
   "source": [
    "# Compute AUC-ROC\n",
    "if len(set(test_labels)) > 2:  # Multi-class case\n",
    "    test_labels_one_hot = np.eye(len(set(test_labels)))[test_labels]  # One-hot encoding\n",
    "    auc_roc = roc_auc_score(test_labels_one_hot, np.array(all_probs), multi_class=\"ovr\")\n",
    "else:  # Binary classification case\n",
    "    auc_roc = roc_auc_score(test_labels, np.array(all_probs)[:, 1])  # Use positive class probabilities\n",
    "\n",
    "print(f\"AUC-ROC: {auc_roc:.2f}\")"
   ]
  },
  {
   "cell_type": "code",
   "execution_count": null,
   "id": "d1f33a2c-569b-45aa-9ec8-f324ccabb1a7",
   "metadata": {},
   "outputs": [],
   "source": [
    "from torchvision.models import resnet18\n",
    "import torch\n",
    "from torchsummary import summary\n",
    "import torch.nn as nn\n",
    "\n",
    "# Load and modify the model\n",
    "model = resnet18()\n",
    "model.conv1 = nn.Conv2d(2, 64, kernel_size=7, stride=2, padding=3, bias=False)  # Modify for 2 input channels\n",
    "\n",
    "# Move the model to the appropriate device\n",
    "device = torch.device(\"cuda\" if torch.cuda.is_available() else \"cpu\")\n",
    "model = model.to(device)\n",
    "\n",
    "# Display the summary\n",
    "summary(model, input_size=(2, 224, 224))  # Adjust input size to match your data"
   ]
  }
 ],
 "metadata": {
  "kernelspec": {
   "display_name": "Python 3 (ipykernel)",
   "language": "python",
   "name": "python3"
  },
  "language_info": {
   "codemirror_mode": {
    "name": "ipython",
    "version": 3
   },
   "file_extension": ".py",
   "mimetype": "text/x-python",
   "name": "python",
   "nbconvert_exporter": "python",
   "pygments_lexer": "ipython3",
   "version": "3.12.2"
  }
 },
 "nbformat": 4,
 "nbformat_minor": 5
}
